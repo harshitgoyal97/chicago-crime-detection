{
  "nbformat": 4,
  "nbformat_minor": 0,
  "metadata": {
    "colab": {
      "name": "Questions_Chicago_Crime_Detection.ipynb",
      "provenance": [],
      "collapsed_sections": [],
      "include_colab_link": true
    },
    "kernelspec": {
      "name": "python3",
      "display_name": "Python 3"
    }
  },
  "cells": [
    {
      "cell_type": "markdown",
      "metadata": {
        "id": "view-in-github",
        "colab_type": "text"
      },
      "source": [
        "<a href=\"https://colab.research.google.com/github/harshitgoyal97/chicago-crime-detection/blob/master/Observations_Chicago_Crime_Detection.ipynb\" target=\"_parent\"><img src=\"https://colab.research.google.com/assets/colab-badge.svg\" alt=\"Open In Colab\"/></a>"
      ]
    },
    {
      "cell_type": "markdown",
      "metadata": {
        "id": "rb0oSzAdUkNg",
        "colab_type": "text"
      },
      "source": [
        "**Helpful Material:**\n",
        "\n",
        "1) https://www.shanelynn.ie/summarising-aggregation-and-grouping-data-in-python-pandas/\n",
        "\n",
        "2) Helpful function: df.value_counts()\n",
        "\n",
        "**Learning objective**\n",
        "*  EDA\n",
        "*  Getting familiar with datetime operations\n"
      ]
    },
    {
      "cell_type": "code",
      "metadata": {
        "id": "J6GZan3pW0nK",
        "colab_type": "code",
        "colab": {}
      },
      "source": [
        "# Loading Libraries\n",
        "import numpy as np\n",
        "import pandas as pd\n",
        "import matplotlib.pyplot as plt\n",
        "\n",
        "# ignoring warnings\n",
        "import warnings\n",
        "warnings.filterwarnings(\"ignore\")"
      ],
      "execution_count": 1,
      "outputs": []
    },
    {
      "cell_type": "code",
      "metadata": {
        "id": "WMCiv1GOXFh-",
        "colab_type": "code",
        "colab": {}
      },
      "source": [
        "#load data\n",
        "chicago_data = pd.read_csv(\"https://raw.githubusercontent.com/dphi-official/Datasets/master/Chicago_Crime_Detective.csv\")"
      ],
      "execution_count": 37,
      "outputs": []
    },
    {
      "cell_type": "code",
      "metadata": {
        "id": "PSRtZFDGTAaW",
        "colab_type": "code",
        "colab": {
          "base_uri": "https://localhost:8080/",
          "height": 203
        },
        "outputId": "9fcde7d5-a6f5-4262-c3c1-34af176ab4ab"
      },
      "source": [
        " chicago_data.head()"
      ],
      "execution_count": 38,
      "outputs": [
        {
          "output_type": "execute_result",
          "data": {
            "text/html": [
              "<div>\n",
              "<style scoped>\n",
              "    .dataframe tbody tr th:only-of-type {\n",
              "        vertical-align: middle;\n",
              "    }\n",
              "\n",
              "    .dataframe tbody tr th {\n",
              "        vertical-align: top;\n",
              "    }\n",
              "\n",
              "    .dataframe thead th {\n",
              "        text-align: right;\n",
              "    }\n",
              "</style>\n",
              "<table border=\"1\" class=\"dataframe\">\n",
              "  <thead>\n",
              "    <tr style=\"text-align: right;\">\n",
              "      <th></th>\n",
              "      <th>Unnamed: 0</th>\n",
              "      <th>ID</th>\n",
              "      <th>Date</th>\n",
              "      <th>LocationDescription</th>\n",
              "      <th>Arrest</th>\n",
              "      <th>Domestic</th>\n",
              "      <th>Beat</th>\n",
              "      <th>District</th>\n",
              "      <th>CommunityArea</th>\n",
              "      <th>Year</th>\n",
              "    </tr>\n",
              "  </thead>\n",
              "  <tbody>\n",
              "    <tr>\n",
              "      <th>0</th>\n",
              "      <td>0</td>\n",
              "      <td>8951354</td>\n",
              "      <td>12/31/12 23:15</td>\n",
              "      <td>STREET</td>\n",
              "      <td>False</td>\n",
              "      <td>False</td>\n",
              "      <td>623</td>\n",
              "      <td>6</td>\n",
              "      <td>69</td>\n",
              "      <td>2012</td>\n",
              "    </tr>\n",
              "    <tr>\n",
              "      <th>1</th>\n",
              "      <td>1</td>\n",
              "      <td>8951141</td>\n",
              "      <td>12/31/12 22:00</td>\n",
              "      <td>STREET</td>\n",
              "      <td>False</td>\n",
              "      <td>False</td>\n",
              "      <td>1213</td>\n",
              "      <td>12</td>\n",
              "      <td>24</td>\n",
              "      <td>2012</td>\n",
              "    </tr>\n",
              "    <tr>\n",
              "      <th>2</th>\n",
              "      <td>2</td>\n",
              "      <td>8952745</td>\n",
              "      <td>12/31/12 22:00</td>\n",
              "      <td>RESIDENTIAL YARD (FRONT/BACK)</td>\n",
              "      <td>False</td>\n",
              "      <td>False</td>\n",
              "      <td>1622</td>\n",
              "      <td>16</td>\n",
              "      <td>11</td>\n",
              "      <td>2012</td>\n",
              "    </tr>\n",
              "    <tr>\n",
              "      <th>3</th>\n",
              "      <td>3</td>\n",
              "      <td>8952223</td>\n",
              "      <td>12/31/12 22:00</td>\n",
              "      <td>STREET</td>\n",
              "      <td>False</td>\n",
              "      <td>False</td>\n",
              "      <td>724</td>\n",
              "      <td>7</td>\n",
              "      <td>67</td>\n",
              "      <td>2012</td>\n",
              "    </tr>\n",
              "    <tr>\n",
              "      <th>4</th>\n",
              "      <td>4</td>\n",
              "      <td>8951608</td>\n",
              "      <td>12/31/12 21:30</td>\n",
              "      <td>STREET</td>\n",
              "      <td>False</td>\n",
              "      <td>False</td>\n",
              "      <td>211</td>\n",
              "      <td>2</td>\n",
              "      <td>35</td>\n",
              "      <td>2012</td>\n",
              "    </tr>\n",
              "  </tbody>\n",
              "</table>\n",
              "</div>"
            ],
            "text/plain": [
              "   Unnamed: 0       ID            Date  ... District  CommunityArea  Year\n",
              "0           0  8951354  12/31/12 23:15  ...        6             69  2012\n",
              "1           1  8951141  12/31/12 22:00  ...       12             24  2012\n",
              "2           2  8952745  12/31/12 22:00  ...       16             11  2012\n",
              "3           3  8952223  12/31/12 22:00  ...        7             67  2012\n",
              "4           4  8951608  12/31/12 21:30  ...        2             35  2012\n",
              "\n",
              "[5 rows x 10 columns]"
            ]
          },
          "metadata": {
            "tags": []
          },
          "execution_count": 38
        }
      ]
    },
    {
      "cell_type": "markdown",
      "metadata": {
        "id": "Znsv8OkMkM8h",
        "colab_type": "text"
      },
      "source": [
        "Use the raw data github link above.\n",
        "\n",
        "Data Columns details:\n",
        "1. ID: a unique identifier for each observation.\n",
        "\n",
        "2. Date: the date the crime occurred.\n",
        "LocationDescription: the location where the crime occurred.\n",
        "\n",
        "3. Arrest: whether or not an arrest was made for the crime (TRUE if an arrest was made, and FALSE if an arrest was not made).\n",
        "\n",
        "4. Domestic: whether or not the crime was a domestic crime, meaning that it was committed against a family member (TRUE if it was domestic, and FALSE if it was not domestic).\n",
        "\n",
        "5. Beat: the area, or \"beat\" in which the crime occurred. This is the smallest regional division defined by the Chicago police department.\n",
        "\n",
        "6. District: the police district in which the crime occured. Each district is composed of many beats, and are defined by the Chicago Police Department.\n",
        "\n",
        "7. CommunityArea: the community area in which the crime occurred. Since the 1920s, Chicago has been divided into what are called \"community areas\", of which there are now 77. The community areas were devised in an attempt to create socially homogeneous regions.\n",
        "\n",
        "8. Year: the year in which the crime occurred.\n",
        "Latitude: the latitude of the location at which the crime occurred."
      ]
    },
    {
      "cell_type": "markdown",
      "metadata": {
        "id": "p_5NyRrGWBn1",
        "colab_type": "text"
      },
      "source": [
        "**Question 1:** What is the Month and Year of the median date in our dataset? *\n"
      ]
    },
    {
      "cell_type": "code",
      "metadata": {
        "id": "mg6nimHbpX8s",
        "colab_type": "code",
        "colab": {}
      },
      "source": [
        "# parsing date from string to datetime\n",
        "import dateutil\n",
        "chicago_data['Date'] = chicago_data['Date'].apply(dateutil.parser.parse, dayfirst = False)"
      ],
      "execution_count": 40,
      "outputs": []
    },
    {
      "cell_type": "code",
      "metadata": {
        "id": "G_JeIuuSrUGU",
        "colab_type": "code",
        "colab": {
          "base_uri": "https://localhost:8080/",
          "height": 228
        },
        "outputId": "33deedb0-f4f5-46e1-c8fa-2d2cecb45662"
      },
      "source": [
        "chicago_data['Date']"
      ],
      "execution_count": 45,
      "outputs": [
        {
          "output_type": "execute_result",
          "data": {
            "text/plain": [
              "0        2012-12-31 23:15:00\n",
              "1        2012-12-31 22:00:00\n",
              "2        2012-12-31 22:00:00\n",
              "3        2012-12-31 22:00:00\n",
              "4        2012-12-31 21:30:00\n",
              "                 ...        \n",
              "191636   2001-01-01 00:05:00\n",
              "191637   2001-01-01 00:01:00\n",
              "191638   2001-01-01 00:01:00\n",
              "191639   2001-01-01 00:01:00\n",
              "191640   2001-01-01 00:01:00\n",
              "Name: Date, Length: 191641, dtype: datetime64[ns]"
            ]
          },
          "metadata": {
            "tags": []
          },
          "execution_count": 45
        }
      ]
    },
    {
      "cell_type": "code",
      "metadata": {
        "id": "kMJC9gZoXElZ",
        "colab_type": "code",
        "colab": {
          "base_uri": "https://localhost:8080/",
          "height": 35
        },
        "outputId": "e8035b29-6aa3-4539-8417-f508934c0e72"
      },
      "source": [
        "# Sorting data by date and extracting date column from the dataset\n",
        "dates = chicago_data.sort_values(by=['Date'])['Date'] \n",
        "\n",
        "# Calculating median by getting the middle value\n",
        "median_date = dates[len(dates)//2]\n",
        "median_date"
      ],
      "execution_count": null,
      "outputs": [
        {
          "output_type": "execute_result",
          "data": {
            "text/plain": [
              "Timestamp('2006-05-21 12:30:00')"
            ]
          },
          "metadata": {
            "tags": []
          },
          "execution_count": 24
        }
      ]
    },
    {
      "cell_type": "code",
      "metadata": {
        "id": "WR0wkFoIZ5f8",
        "colab_type": "code",
        "colab": {
          "base_uri": "https://localhost:8080/",
          "height": 35
        },
        "outputId": "d04a5025-ee93-492e-f6a9-5d17453f82f1"
      },
      "source": [
        "median_date.month_name() + \" \"+ str(median_date.year)"
      ],
      "execution_count": null,
      "outputs": [
        {
          "output_type": "execute_result",
          "data": {
            "application/vnd.google.colaboratory.intrinsic+json": {
              "type": "string"
            },
            "text/plain": [
              "'May 2006'"
            ]
          },
          "metadata": {
            "tags": []
          },
          "execution_count": 29
        }
      ]
    },
    {
      "cell_type": "markdown",
      "metadata": {
        "id": "EC6CMddoW3dL",
        "colab_type": "text"
      },
      "source": [
        "**Question 2:** In which month did the lowest motor vehicle thefts occur? *\n"
      ]
    },
    {
      "cell_type": "code",
      "metadata": {
        "id": "8wIJ8712gMXg",
        "colab_type": "code",
        "colab": {
          "base_uri": "https://localhost:8080/",
          "height": 228
        },
        "outputId": "8d12a643-d90b-4cf6-c82e-9fa6eb533dbe"
      },
      "source": [
        "from collections import Counter\n",
        "# Calculating month name from each date\n",
        "monthNames = [i.month_name() for i in chicago_data['Date']]\n",
        "# using Counter subclass for counting the no. of occurrences of a particular month (Hence, indicating the no. of crimes in that month)\n",
        "dictMonths = Counter(monthNames)\n",
        "dictMonths"
      ],
      "execution_count": 48,
      "outputs": [
        {
          "output_type": "execute_result",
          "data": {
            "text/plain": [
              "Counter({'April': 15280,\n",
              "         'August': 16572,\n",
              "         'December': 16426,\n",
              "         'February': 13511,\n",
              "         'January': 16047,\n",
              "         'July': 16801,\n",
              "         'June': 16002,\n",
              "         'March': 15758,\n",
              "         'May': 16035,\n",
              "         'November': 16063,\n",
              "         'October': 17086,\n",
              "         'September': 16060})"
            ]
          },
          "metadata": {
            "tags": []
          },
          "execution_count": 48
        }
      ]
    },
    {
      "cell_type": "code",
      "metadata": {
        "id": "88NOQA3nkxY5",
        "colab_type": "code",
        "colab": {
          "base_uri": "https://localhost:8080/",
          "height": 35
        },
        "outputId": "af342166-64b4-44f9-d92d-89f57540bb61"
      },
      "source": [
        "# For lowest motor vehicle thefts, we will get the key(month) corresponding to the min value of the dictMonths dictionary\n",
        "min(dictMonths, key=dictMonths.get)"
      ],
      "execution_count": 49,
      "outputs": [
        {
          "output_type": "execute_result",
          "data": {
            "application/vnd.google.colaboratory.intrinsic+json": {
              "type": "string"
            },
            "text/plain": [
              "'February'"
            ]
          },
          "metadata": {
            "tags": []
          },
          "execution_count": 49
        }
      ]
    },
    {
      "cell_type": "markdown",
      "metadata": {
        "id": "Ox9wmNfBXBNc",
        "colab_type": "text"
      },
      "source": [
        "**Question 3:** In which month did the highest motor vehicle thefts occur? *\n"
      ]
    },
    {
      "cell_type": "code",
      "metadata": {
        "id": "nOYDbZsysXiC",
        "colab_type": "code",
        "colab": {
          "base_uri": "https://localhost:8080/",
          "height": 35
        },
        "outputId": "849083b5-e6db-4d6b-f480-211c5897abe9"
      },
      "source": [
        "# Similarly, for highest motor vehicle thefts, we will use max\n",
        "max(dictMonths, key=dictMonths.get)"
      ],
      "execution_count": null,
      "outputs": [
        {
          "output_type": "execute_result",
          "data": {
            "application/vnd.google.colaboratory.intrinsic+json": {
              "type": "string"
            },
            "text/plain": [
              "'October'"
            ]
          },
          "metadata": {
            "tags": []
          },
          "execution_count": 56
        }
      ]
    },
    {
      "cell_type": "markdown",
      "metadata": {
        "id": "Ixxg-0nIXtrS",
        "colab_type": "text"
      },
      "source": [
        "**Question 4:** On which day of the week did most motor vehicle thefts occur? \n",
        "1. Monday\n",
        "2. Wednesday\n",
        "3. Friday \n",
        "4. Sunday\n"
      ]
    },
    {
      "cell_type": "code",
      "metadata": {
        "id": "IM4tHdkosppl",
        "colab_type": "code",
        "colab": {
          "base_uri": "https://localhost:8080/",
          "height": 140
        },
        "outputId": "86dff3b6-39fe-44c7-8fe9-32803100de92"
      },
      "source": [
        "from collections import Counter\n",
        "# Calculating day of the week for each date\n",
        "daysOfWeek = [i.day_name() for i in chicago_data['Date']]\n",
        "# using Counter subclass for counting the no. of occurrences of a particular day (Hence, indicating the no. of crimes on that day)\n",
        "dictDays = Counter(daysOfWeek)\n",
        "dictDays"
      ],
      "execution_count": 50,
      "outputs": [
        {
          "output_type": "execute_result",
          "data": {
            "text/plain": [
              "Counter({'Friday': 29284,\n",
              "         'Monday': 27397,\n",
              "         'Saturday': 27118,\n",
              "         'Sunday': 26316,\n",
              "         'Thursday': 27319,\n",
              "         'Tuesday': 26791,\n",
              "         'Wednesday': 27416})"
            ]
          },
          "metadata": {
            "tags": []
          },
          "execution_count": 50
        }
      ]
    },
    {
      "cell_type": "code",
      "metadata": {
        "id": "LObVNzg6cSml",
        "colab_type": "code",
        "colab": {
          "base_uri": "https://localhost:8080/",
          "height": 35
        },
        "outputId": "724ce4c2-9a04-4c45-a95b-5cdf97e95b48"
      },
      "source": [
        "# Similar to months, for highest motor vehicle thefts, we will use max\n",
        "max(dictDays, key=dictDays.get)"
      ],
      "execution_count": 51,
      "outputs": [
        {
          "output_type": "execute_result",
          "data": {
            "application/vnd.google.colaboratory.intrinsic+json": {
              "type": "string"
            },
            "text/plain": [
              "'Friday'"
            ]
          },
          "metadata": {
            "tags": []
          },
          "execution_count": 51
        }
      ]
    },
    {
      "cell_type": "markdown",
      "metadata": {
        "id": "2nrxCxjJX44G",
        "colab_type": "text"
      },
      "source": [
        "**Question 5:** Each observation in the dataset represents a motor vehicle theft, and the Arrest variable indicates whether an arrest was later made for this theft. Which month has the largest number of motor vehicle thefts for which an arrest was made? "
      ]
    },
    {
      "cell_type": "code",
      "metadata": {
        "id": "Yk-iKASPhcIu",
        "colab_type": "code",
        "colab": {
          "base_uri": "https://localhost:8080/",
          "height": 70
        },
        "outputId": "9a1dbfe9-2b51-49f2-e1c2-e6e28bb0c8dc"
      },
      "source": [
        "# Calculating the number of times an arrest was made later\n",
        "chicago_data['Arrest'].value_counts()"
      ],
      "execution_count": 52,
      "outputs": [
        {
          "output_type": "execute_result",
          "data": {
            "text/plain": [
              "False    176105\n",
              "True      15536\n",
              "Name: Arrest, dtype: int64"
            ]
          },
          "metadata": {
            "tags": []
          },
          "execution_count": 52
        }
      ]
    },
    {
      "cell_type": "code",
      "metadata": {
        "id": "dWKlJDNZtgqp",
        "colab_type": "code",
        "colab": {}
      },
      "source": [
        "updated_data = chicago_data['Date'][chicago_data['Arrest'] == True]"
      ],
      "execution_count": 53,
      "outputs": []
    },
    {
      "cell_type": "code",
      "metadata": {
        "id": "ZV85IFxfjTK2",
        "colab_type": "code",
        "colab": {
          "base_uri": "https://localhost:8080/",
          "height": 228
        },
        "outputId": "da64aea7-f85a-4bc0-ee9f-9fd48bbe3ff6"
      },
      "source": [
        "# Calculating month name from each date\n",
        "monthNames = [i.month_name() for i in updated_data]\n",
        "# using Counter subclass for counting the no. of occurrences of a particular month (Hence, indicating the no. of crimes in that month)\n",
        "dictMonths = Counter(monthNames)\n",
        "dictMonths"
      ],
      "execution_count": 54,
      "outputs": [
        {
          "output_type": "execute_result",
          "data": {
            "text/plain": [
              "Counter({'April': 1252,\n",
              "         'August': 1329,\n",
              "         'December': 1397,\n",
              "         'February': 1238,\n",
              "         'January': 1435,\n",
              "         'July': 1324,\n",
              "         'June': 1230,\n",
              "         'March': 1298,\n",
              "         'May': 1187,\n",
              "         'November': 1256,\n",
              "         'October': 1342,\n",
              "         'September': 1248})"
            ]
          },
          "metadata": {
            "tags": []
          },
          "execution_count": 54
        }
      ]
    },
    {
      "cell_type": "code",
      "metadata": {
        "id": "pq4Z0nF9lefR",
        "colab_type": "code",
        "colab": {
          "base_uri": "https://localhost:8080/",
          "height": 35
        },
        "outputId": "68fea72a-9a0b-4b36-a2d4-fd3499b927eb"
      },
      "source": [
        "# using max function for calculating month with highest no. of motor vehicle thefts when an arrest was made later\n",
        "max(dictMonths, key=dictMonths.get)"
      ],
      "execution_count": 55,
      "outputs": [
        {
          "output_type": "execute_result",
          "data": {
            "application/vnd.google.colaboratory.intrinsic+json": {
              "type": "string"
            },
            "text/plain": [
              "'January'"
            ]
          },
          "metadata": {
            "tags": []
          },
          "execution_count": 55
        }
      ]
    },
    {
      "cell_type": "markdown",
      "metadata": {
        "id": "fERgD9_xYHvX",
        "colab_type": "text"
      },
      "source": [
        "**Question 6:** Select the incorrect statement \n",
        "1. It look like crime decreases from 2002 - 2012\n",
        "2. It look like crime increases from 2005 - 2008\n",
        "3. It look like crime increases from 2009 - 2011\n"
      ]
    },
    {
      "cell_type": "code",
      "metadata": {
        "id": "7LsUY_HGrKgS",
        "colab_type": "code",
        "colab": {}
      },
      "source": [
        "# selecting the year dataset\n",
        "year_data = chicago_data['Year']"
      ],
      "execution_count": 28,
      "outputs": []
    },
    {
      "cell_type": "code",
      "metadata": {
        "id": "96Tvz-3AzD6b",
        "colab_type": "code",
        "colab": {
          "base_uri": "https://localhost:8080/",
          "height": 313
        },
        "outputId": "4230ce73-39b1-4b50-9098-ab60963faa40"
      },
      "source": [
        "# Plotting a Histogram (Frequency Distribution)\n",
        "plt.hist(year_data, alpha = 0.75, rwidth=0.85)\n",
        "plt.ylabel(\"No. of Crimes\")\n",
        "plt.xlabel(\"Year\")\n",
        "plt.xticks(np.arange(2001, 2013))\n",
        "plt.title(\"Frequency distribution\")"
      ],
      "execution_count": 29,
      "outputs": [
        {
          "output_type": "execute_result",
          "data": {
            "text/plain": [
              "Text(0.5, 1.0, 'Frequency distribution')"
            ]
          },
          "metadata": {
            "tags": []
          },
          "execution_count": 29
        },
        {
          "output_type": "display_data",
          "data": {
            "image/png": "[encoded data removed]",
            "text/plain": [
              "<Figure size 432x288 with 1 Axes>"
            ]
          },
          "metadata": {
            "tags": [],
            "needs_background": "light"
          }
        }
      ]
    },
    {
      "cell_type": "markdown",
      "metadata": {
        "id": "OimPWsfQwYOv",
        "colab_type": "text"
      },
      "source": [
        "\n",
        "**Answer 6:** *Based on the plot, Option 2 is the answer*\n",
        "\n",
        "\n",
        "\n"
      ]
    },
    {
      "cell_type": "markdown",
      "metadata": {
        "id": "9b_gZET8YZOV",
        "colab_type": "text"
      },
      "source": [
        "**Question 7:** Crimes for which more arrests were made are in the first half of the time period or the second half of the time period? *\n",
        "(Note that the time period is from 2001 to 2012, so the middle of the time period is the beginning of 2007.)\n",
        "\n",
        "1. First half\n",
        "2. Second half\n"
      ]
    },
    {
      "cell_type": "markdown",
      "metadata": {
        "id": "qZUVLbc9w02Q",
        "colab_type": "text"
      },
      "source": [
        "**Answer 7:** *First half --> Based on the plot*\n",
        "\n",
        "\n",
        "\n"
      ]
    },
    {
      "cell_type": "markdown",
      "metadata": {
        "id": "Hm9vag5kYqGX",
        "colab_type": "text"
      },
      "source": [
        "**Question 8:** For what proportion of motor vehicle thefts in 2001 was an arrest made?\n"
      ]
    },
    {
      "cell_type": "code",
      "metadata": {
        "id": "VpP5Pw9MzYh5",
        "colab_type": "code",
        "colab": {
          "base_uri": "https://localhost:8080/",
          "height": 35
        },
        "outputId": "9865ab69-f360-47d6-ba8d-d73e05878b3d"
      },
      "source": [
        "# Total no. of motor vehicle thefts in 2001\n",
        "total = year_data[year_data == 2001].count()\n",
        "total"
      ],
      "execution_count": 77,
      "outputs": [
        {
          "output_type": "execute_result",
          "data": {
            "text/plain": [
              "20669"
            ]
          },
          "metadata": {
            "tags": []
          },
          "execution_count": 77
        }
      ]
    },
    {
      "cell_type": "code",
      "metadata": {
        "id": "HN2YleUN3quF",
        "colab_type": "code",
        "colab": {
          "base_uri": "https://localhost:8080/",
          "height": 35
        },
        "outputId": "4a5228d4-4603-4c40-f759-2587e93d8abb"
      },
      "source": [
        "# Total no. of thefts in 2001 where arrest was made\n",
        "condition = chicago_data[chicago_data['Arrest'] == True][year_data == 2001]['Year'].count()\n",
        "condition"
      ],
      "execution_count": 79,
      "outputs": [
        {
          "output_type": "execute_result",
          "data": {
            "text/plain": [
              "2152"
            ]
          },
          "metadata": {
            "tags": []
          },
          "execution_count": 79
        }
      ]
    },
    {
      "cell_type": "code",
      "metadata": {
        "id": "PO9WwlCt3Sdc",
        "colab_type": "code",
        "colab": {
          "base_uri": "https://localhost:8080/",
          "height": 35
        },
        "outputId": "e34f4586-de1e-43a5-c6bd-cd524f4d28de"
      },
      "source": [
        "proportion = condition/total\n",
        "proportion"
      ],
      "execution_count": 80,
      "outputs": [
        {
          "output_type": "execute_result",
          "data": {
            "text/plain": [
              "0.10411727708161982"
            ]
          },
          "metadata": {
            "tags": []
          },
          "execution_count": 80
        }
      ]
    },
    {
      "cell_type": "markdown",
      "metadata": {
        "id": "yDXOzg8991bb",
        "colab_type": "text"
      },
      "source": [
        "**Answer 8:** 0.10"
      ]
    },
    {
      "cell_type": "markdown",
      "metadata": {
        "id": "ZYPM-qxkZfM1",
        "colab_type": "text"
      },
      "source": [
        "**Question 9:** Create a subset of your data, only taking observations for which the theft happened in one of the top five locations for motor vehicle thefts, excluding the \"Other\" category. Call this new data set \"Top5\". How many observations are in Top5?"
      ]
    },
    {
      "cell_type": "code",
      "metadata": {
        "id": "UsXUb3MGzc91",
        "colab_type": "code",
        "colab": {
          "base_uri": "https://localhost:8080/",
          "height": 140
        },
        "outputId": "114cd8c4-666b-4b6f-b847-3a02647a30c9"
      },
      "source": [
        "# Calculating Top 6 locations\n",
        "chicago_data['LocationDescription'].value_counts().head(6)"
      ],
      "execution_count": 11,
      "outputs": [
        {
          "output_type": "execute_result",
          "data": {
            "text/plain": [
              "STREET                            156564\n",
              "PARKING LOT/GARAGE(NON.RESID.)     14852\n",
              "OTHER                               4573\n",
              "ALLEY                               2308\n",
              "GAS STATION                         2111\n",
              "DRIVEWAY - RESIDENTIAL              1675\n",
              "Name: LocationDescription, dtype: int64"
            ]
          },
          "metadata": {
            "tags": []
          },
          "execution_count": 11
        }
      ]
    },
    {
      "cell_type": "code",
      "metadata": {
        "id": "dt0TWYQU9Jjl",
        "colab_type": "code",
        "colab": {
          "base_uri": "https://localhost:8080/",
          "height": 35
        },
        "outputId": "7135654c-cd76-448c-d482-a1ca2bea9250"
      },
      "source": [
        "# No. of observations in Top 6 theft locations\n",
        "Top6 = chicago_data['LocationDescription'].value_counts().head(6).sum()\n",
        "Top6"
      ],
      "execution_count": 15,
      "outputs": [
        {
          "output_type": "execute_result",
          "data": {
            "text/plain": [
              "182083"
            ]
          },
          "metadata": {
            "tags": []
          },
          "execution_count": 15
        }
      ]
    },
    {
      "cell_type": "code",
      "metadata": {
        "id": "VmXf7EMQ83iZ",
        "colab_type": "code",
        "colab": {
          "base_uri": "https://localhost:8080/",
          "height": 35
        },
        "outputId": "6b9fa8e7-f575-45e3-ab59-5e9c3577fd12"
      },
      "source": [
        "# No. of observations in 'other' location\n",
        "other = (chicago_data['LocationDescription'] == 'OTHER').sum()\n",
        "other"
      ],
      "execution_count": 14,
      "outputs": [
        {
          "output_type": "execute_result",
          "data": {
            "text/plain": [
              "4573"
            ]
          },
          "metadata": {
            "tags": []
          },
          "execution_count": 14
        }
      ]
    },
    {
      "cell_type": "code",
      "metadata": {
        "id": "79KFH4aI9WpY",
        "colab_type": "code",
        "colab": {
          "base_uri": "https://localhost:8080/",
          "height": 35
        },
        "outputId": "38b9528b-d1d7-4588-b618-0edec00139e9"
      },
      "source": [
        "# No. of Top 5 observations excluding 'other'\n",
        "Top5 = Top6 - other\n",
        "Top5"
      ],
      "execution_count": 35,
      "outputs": [
        {
          "output_type": "execute_result",
          "data": {
            "text/plain": [
              "177510"
            ]
          },
          "metadata": {
            "tags": []
          },
          "execution_count": 35
        }
      ]
    },
    {
      "cell_type": "markdown",
      "metadata": {
        "id": "qo6VXmxH9kyj",
        "colab_type": "text"
      },
      "source": [
        "**Answer 9:** 177510"
      ]
    },
    {
      "cell_type": "markdown",
      "metadata": {
        "id": "06wNQi51Z6xS",
        "colab_type": "text"
      },
      "source": [
        "**Question 10:** On which day of the week do the most motor vehicle thefts at gas stations happen? *"
      ]
    },
    {
      "cell_type": "code",
      "metadata": {
        "id": "jMBvbZ3ebxnP",
        "colab_type": "code",
        "colab": {
          "base_uri": "https://localhost:8080/",
          "height": 228
        },
        "outputId": "aeecfbd7-e7a9-40ab-b8f7-7f47f2b92688"
      },
      "source": [
        "# Calculating dates when thefts happened at gas station\n",
        "date_gas_station = chicago_data['Date'][chicago_data['LocationDescription'] == 'GAS STATION']\n",
        "date_gas_station"
      ],
      "execution_count": 30,
      "outputs": [
        {
          "output_type": "execute_result",
          "data": {
            "text/plain": [
              "13       2012-12-31 16:20:00\n",
              "106      2012-12-29 10:00:00\n",
              "213      2012-12-27 10:00:00\n",
              "278      2012-12-25 10:00:00\n",
              "290      2012-12-24 21:55:00\n",
              "                 ...        \n",
              "191335   2001-01-06 16:00:00\n",
              "191350   2001-01-06 11:30:00\n",
              "191376   2001-01-05 22:00:00\n",
              "191562   2001-01-02 18:10:00\n",
              "191583   2001-01-02 08:35:00\n",
              "Name: Date, Length: 2111, dtype: datetime64[ns]"
            ]
          },
          "metadata": {
            "tags": []
          },
          "execution_count": 30
        }
      ]
    },
    {
      "cell_type": "code",
      "metadata": {
        "id": "-deJmuRAS8if",
        "colab_type": "code",
        "colab": {
          "base_uri": "https://localhost:8080/",
          "height": 140
        },
        "outputId": "e19f8945-de47-482f-9068-cb5d4d385979"
      },
      "source": [
        "# Calculating day name from each date\n",
        "dayNames = [i.day_name() for i in date_gas_station]\n",
        "# using Counter subclass for counting the no. of occurrences of a particular day (Hence, indicating the no. of motor vehicle thefts on that day)\n",
        "dictDays = Counter(dayNames)\n",
        "dictDays"
      ],
      "execution_count": 33,
      "outputs": [
        {
          "output_type": "execute_result",
          "data": {
            "text/plain": [
              "Counter({'Friday': 332,\n",
              "         'Monday': 280,\n",
              "         'Saturday': 338,\n",
              "         'Sunday': 336,\n",
              "         'Thursday': 282,\n",
              "         'Tuesday': 270,\n",
              "         'Wednesday': 273})"
            ]
          },
          "metadata": {
            "tags": []
          },
          "execution_count": 33
        }
      ]
    },
    {
      "cell_type": "code",
      "metadata": {
        "id": "QnAtCM-jAbYO",
        "colab_type": "code",
        "colab": {
          "base_uri": "https://localhost:8080/",
          "height": 35
        },
        "outputId": "6d2118b6-f792-4b92-cf87-b5af3eeb1069"
      },
      "source": [
        "# using max function for calculating day with highest no. of motor vehicle thefts at gas stations\n",
        "max(dictDays, key=dictDays.get)"
      ],
      "execution_count": 34,
      "outputs": [
        {
          "output_type": "execute_result",
          "data": {
            "application/vnd.google.colaboratory.intrinsic+json": {
              "type": "string"
            },
            "text/plain": [
              "'Saturday'"
            ]
          },
          "metadata": {
            "tags": []
          },
          "execution_count": 34
        }
      ]
    },
    {
      "cell_type": "markdown",
      "metadata": {
        "id": "8Zb85ggZBCqz",
        "colab_type": "text"
      },
      "source": [
        "**Answer 10:** Saturday"
      ]
    }
  ]
}